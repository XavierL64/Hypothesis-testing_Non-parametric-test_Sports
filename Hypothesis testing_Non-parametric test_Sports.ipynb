{
 "cells": [
  {
   "cell_type": "code",
   "execution_count": 2,
   "id": "7ce4515f",
   "metadata": {},
   "outputs": [],
   "source": [
    "# Import required libraries\n",
    "import pandas as pd\n",
    "import matplotlib.pyplot as plt\n",
    "import seaborn as sns\n",
    "import pingouin"
   ]
  },
  {
   "cell_type": "code",
   "execution_count": 3,
   "id": "be0cd4db",
   "metadata": {},
   "outputs": [],
   "source": [
    "# Load datasets\n",
    "women = pd.read_csv('women_results.csv')\n",
    "men = pd.read_csv('men_results.csv')"
   ]
  },
  {
   "cell_type": "code",
   "execution_count": 4,
   "id": "c0daa0f8",
   "metadata": {},
   "outputs": [],
   "source": [
    "# Explore datasets"
   ]
  },
  {
   "cell_type": "code",
   "execution_count": 5,
   "id": "25c2fb9f",
   "metadata": {},
   "outputs": [
    {
     "data": {
      "text/html": [
       "<div>\n",
       "<style scoped>\n",
       "    .dataframe tbody tr th:only-of-type {\n",
       "        vertical-align: middle;\n",
       "    }\n",
       "\n",
       "    .dataframe tbody tr th {\n",
       "        vertical-align: top;\n",
       "    }\n",
       "\n",
       "    .dataframe thead th {\n",
       "        text-align: right;\n",
       "    }\n",
       "</style>\n",
       "<table border=\"1\" class=\"dataframe\">\n",
       "  <thead>\n",
       "    <tr style=\"text-align: right;\">\n",
       "      <th></th>\n",
       "      <th>Unnamed: 0</th>\n",
       "      <th>date</th>\n",
       "      <th>home_team</th>\n",
       "      <th>away_team</th>\n",
       "      <th>home_score</th>\n",
       "      <th>away_score</th>\n",
       "      <th>tournament</th>\n",
       "    </tr>\n",
       "  </thead>\n",
       "  <tbody>\n",
       "    <tr>\n",
       "      <th>0</th>\n",
       "      <td>0</td>\n",
       "      <td>1969-11-01</td>\n",
       "      <td>Italy</td>\n",
       "      <td>France</td>\n",
       "      <td>1</td>\n",
       "      <td>0</td>\n",
       "      <td>Euro</td>\n",
       "    </tr>\n",
       "    <tr>\n",
       "      <th>1</th>\n",
       "      <td>1</td>\n",
       "      <td>1969-11-01</td>\n",
       "      <td>Denmark</td>\n",
       "      <td>England</td>\n",
       "      <td>4</td>\n",
       "      <td>3</td>\n",
       "      <td>Euro</td>\n",
       "    </tr>\n",
       "    <tr>\n",
       "      <th>2</th>\n",
       "      <td>2</td>\n",
       "      <td>1969-11-02</td>\n",
       "      <td>England</td>\n",
       "      <td>France</td>\n",
       "      <td>2</td>\n",
       "      <td>0</td>\n",
       "      <td>Euro</td>\n",
       "    </tr>\n",
       "    <tr>\n",
       "      <th>3</th>\n",
       "      <td>3</td>\n",
       "      <td>1969-11-02</td>\n",
       "      <td>Italy</td>\n",
       "      <td>Denmark</td>\n",
       "      <td>3</td>\n",
       "      <td>1</td>\n",
       "      <td>Euro</td>\n",
       "    </tr>\n",
       "    <tr>\n",
       "      <th>4</th>\n",
       "      <td>4</td>\n",
       "      <td>1975-08-25</td>\n",
       "      <td>Thailand</td>\n",
       "      <td>Australia</td>\n",
       "      <td>3</td>\n",
       "      <td>2</td>\n",
       "      <td>AFC Championship</td>\n",
       "    </tr>\n",
       "  </tbody>\n",
       "</table>\n",
       "</div>"
      ],
      "text/plain": [
       "   Unnamed: 0        date home_team  away_team  home_score  away_score  \\\n",
       "0           0  1969-11-01     Italy     France           1           0   \n",
       "1           1  1969-11-01   Denmark    England           4           3   \n",
       "2           2  1969-11-02   England     France           2           0   \n",
       "3           3  1969-11-02     Italy    Denmark           3           1   \n",
       "4           4  1975-08-25  Thailand  Australia           3           2   \n",
       "\n",
       "         tournament  \n",
       "0              Euro  \n",
       "1              Euro  \n",
       "2              Euro  \n",
       "3              Euro  \n",
       "4  AFC Championship  "
      ]
     },
     "execution_count": 5,
     "metadata": {},
     "output_type": "execute_result"
    }
   ],
   "source": [
    "women.head()"
   ]
  },
  {
   "cell_type": "code",
   "execution_count": 6,
   "id": "66ca5765",
   "metadata": {},
   "outputs": [
    {
     "name": "stdout",
     "output_type": "stream",
     "text": [
      "<class 'pandas.core.frame.DataFrame'>\n",
      "RangeIndex: 4884 entries, 0 to 4883\n",
      "Data columns (total 7 columns):\n",
      " #   Column      Non-Null Count  Dtype \n",
      "---  ------      --------------  ----- \n",
      " 0   Unnamed: 0  4884 non-null   int64 \n",
      " 1   date        4884 non-null   object\n",
      " 2   home_team   4884 non-null   object\n",
      " 3   away_team   4884 non-null   object\n",
      " 4   home_score  4884 non-null   int64 \n",
      " 5   away_score  4884 non-null   int64 \n",
      " 6   tournament  4884 non-null   object\n",
      "dtypes: int64(3), object(4)\n",
      "memory usage: 267.2+ KB\n"
     ]
    }
   ],
   "source": [
    "women.info()"
   ]
  },
  {
   "cell_type": "code",
   "execution_count": 7,
   "id": "d81b9ceb",
   "metadata": {},
   "outputs": [
    {
     "data": {
      "text/html": [
       "<div>\n",
       "<style scoped>\n",
       "    .dataframe tbody tr th:only-of-type {\n",
       "        vertical-align: middle;\n",
       "    }\n",
       "\n",
       "    .dataframe tbody tr th {\n",
       "        vertical-align: top;\n",
       "    }\n",
       "\n",
       "    .dataframe thead th {\n",
       "        text-align: right;\n",
       "    }\n",
       "</style>\n",
       "<table border=\"1\" class=\"dataframe\">\n",
       "  <thead>\n",
       "    <tr style=\"text-align: right;\">\n",
       "      <th></th>\n",
       "      <th>Unnamed: 0</th>\n",
       "      <th>date</th>\n",
       "      <th>home_team</th>\n",
       "      <th>away_team</th>\n",
       "      <th>home_score</th>\n",
       "      <th>away_score</th>\n",
       "      <th>tournament</th>\n",
       "    </tr>\n",
       "  </thead>\n",
       "  <tbody>\n",
       "    <tr>\n",
       "      <th>0</th>\n",
       "      <td>0</td>\n",
       "      <td>1872-11-30</td>\n",
       "      <td>Scotland</td>\n",
       "      <td>England</td>\n",
       "      <td>0</td>\n",
       "      <td>0</td>\n",
       "      <td>Friendly</td>\n",
       "    </tr>\n",
       "    <tr>\n",
       "      <th>1</th>\n",
       "      <td>1</td>\n",
       "      <td>1873-03-08</td>\n",
       "      <td>England</td>\n",
       "      <td>Scotland</td>\n",
       "      <td>4</td>\n",
       "      <td>2</td>\n",
       "      <td>Friendly</td>\n",
       "    </tr>\n",
       "    <tr>\n",
       "      <th>2</th>\n",
       "      <td>2</td>\n",
       "      <td>1874-03-07</td>\n",
       "      <td>Scotland</td>\n",
       "      <td>England</td>\n",
       "      <td>2</td>\n",
       "      <td>1</td>\n",
       "      <td>Friendly</td>\n",
       "    </tr>\n",
       "    <tr>\n",
       "      <th>3</th>\n",
       "      <td>3</td>\n",
       "      <td>1875-03-06</td>\n",
       "      <td>England</td>\n",
       "      <td>Scotland</td>\n",
       "      <td>2</td>\n",
       "      <td>2</td>\n",
       "      <td>Friendly</td>\n",
       "    </tr>\n",
       "    <tr>\n",
       "      <th>4</th>\n",
       "      <td>4</td>\n",
       "      <td>1876-03-04</td>\n",
       "      <td>Scotland</td>\n",
       "      <td>England</td>\n",
       "      <td>3</td>\n",
       "      <td>0</td>\n",
       "      <td>Friendly</td>\n",
       "    </tr>\n",
       "  </tbody>\n",
       "</table>\n",
       "</div>"
      ],
      "text/plain": [
       "   Unnamed: 0        date home_team away_team  home_score  away_score  \\\n",
       "0           0  1872-11-30  Scotland   England           0           0   \n",
       "1           1  1873-03-08   England  Scotland           4           2   \n",
       "2           2  1874-03-07  Scotland   England           2           1   \n",
       "3           3  1875-03-06   England  Scotland           2           2   \n",
       "4           4  1876-03-04  Scotland   England           3           0   \n",
       "\n",
       "  tournament  \n",
       "0   Friendly  \n",
       "1   Friendly  \n",
       "2   Friendly  \n",
       "3   Friendly  \n",
       "4   Friendly  "
      ]
     },
     "execution_count": 7,
     "metadata": {},
     "output_type": "execute_result"
    }
   ],
   "source": [
    "men.head()"
   ]
  },
  {
   "cell_type": "code",
   "execution_count": 8,
   "id": "a6c7044c",
   "metadata": {},
   "outputs": [
    {
     "data": {
      "text/plain": [
       "UEFA Euro qualification                 1445\n",
       "Algarve Cup                              551\n",
       "FIFA World Cup                           284\n",
       "AFC Championship                         268\n",
       "Cyprus Cup                               258\n",
       "African Championship qualification       226\n",
       "UEFA Euro                                184\n",
       "African Championship                     173\n",
       "FIFA World Cup qualification             172\n",
       "CONCACAF Gold Cup qualification          143\n",
       "AFC Asian Cup qualification              141\n",
       "Copa América                             131\n",
       "Olympic Games                            130\n",
       "CONCACAF Gold Cup                        126\n",
       "Friendly                                 111\n",
       "AFC Asian Cup                            111\n",
       "Four Nations Tournament                  106\n",
       "OFC Championship                          78\n",
       "African Cup of Nations qualification      58\n",
       "CONCACAF Championship                     42\n",
       "SheBelieves Cup                           39\n",
       "Euro                                      20\n",
       "African Cup of Nations                    16\n",
       "OFC Nations Cup                           16\n",
       "Olympic Games qualification               15\n",
       "Tournament of Nations                     12\n",
       "Tournoi de France                         12\n",
       "CONCACAF Invitational Tournament           6\n",
       "OFC Nations Cup qualification              6\n",
       "Basque Country Women's Cup                 4\n",
       "Name: tournament, dtype: int64"
      ]
     },
     "execution_count": 8,
     "metadata": {},
     "output_type": "execute_result"
    }
   ],
   "source": [
    "women['tournament'].value_counts()"
   ]
  },
  {
   "cell_type": "code",
   "execution_count": 9,
   "id": "0bd8e48f",
   "metadata": {},
   "outputs": [
    {
     "name": "stdout",
     "output_type": "stream",
     "text": [
      "<class 'pandas.core.frame.DataFrame'>\n",
      "RangeIndex: 44353 entries, 0 to 44352\n",
      "Data columns (total 7 columns):\n",
      " #   Column      Non-Null Count  Dtype \n",
      "---  ------      --------------  ----- \n",
      " 0   Unnamed: 0  44353 non-null  int64 \n",
      " 1   date        44353 non-null  object\n",
      " 2   home_team   44353 non-null  object\n",
      " 3   away_team   44353 non-null  object\n",
      " 4   home_score  44353 non-null  int64 \n",
      " 5   away_score  44353 non-null  int64 \n",
      " 6   tournament  44353 non-null  object\n",
      "dtypes: int64(3), object(4)\n",
      "memory usage: 2.4+ MB\n"
     ]
    }
   ],
   "source": [
    "men.info()"
   ]
  },
  {
   "cell_type": "code",
   "execution_count": 10,
   "id": "2f4d4595",
   "metadata": {},
   "outputs": [],
   "source": [
    "# Convert dates to datetime objects\n",
    "women['date'] = pd.to_datetime(women['date'])\n",
    "men['date'] = pd.to_datetime(men['date'])"
   ]
  },
  {
   "cell_type": "code",
   "execution_count": 11,
   "id": "7a43fed3",
   "metadata": {},
   "outputs": [],
   "source": [
    "# Create a column to store number of goals scored in each game \n",
    "women['goals_scored'] = women['home_score'] + women['away_score']\n",
    "men['goals_scored'] = men['home_score'] + men['away_score']"
   ]
  },
  {
   "cell_type": "code",
   "execution_count": 12,
   "id": "58217617",
   "metadata": {},
   "outputs": [],
   "source": [
    "# Create a column to store gender \n",
    "women['gender'] = 'women'\n",
    "men['gender'] = 'men'"
   ]
  },
  {
   "cell_type": "code",
   "execution_count": 13,
   "id": "e059d79f",
   "metadata": {},
   "outputs": [],
   "source": [
    "# Filtering datasets to keep only World Cup games after 1st January 2002\n",
    "women_wc = women[women['tournament'] == 'FIFA World Cup']\n",
    "women_wc_recent = women_wc[women_wc['date'] > '2002-01-01']\n",
    "\n",
    "men_wc = men[men['tournament'] == 'FIFA World Cup']\n",
    "men_wc_recent = men_wc[men_wc['date'] > '2002-01-01']"
   ]
  },
  {
   "cell_type": "code",
   "execution_count": 14,
   "id": "02fc70f1",
   "metadata": {},
   "outputs": [
    {
     "name": "stdout",
     "output_type": "stream",
     "text": [
      "number of rows in women's filtered dataset: 200\n",
      "number of rows in men's filtered dataset: 384\n"
     ]
    }
   ],
   "source": [
    "# Check if there are enough observations to perform a two-sample t-test (at least 30 observations) \n",
    "print(f\"number of rows in women's filtered dataset: {len(women_wc_recent)}\")\n",
    "print(f\"number of rows in men's filtered dataset: {len(men_wc_recent)}\")"
   ]
  },
  {
   "cell_type": "code",
   "execution_count": 15,
   "id": "3a852c10",
   "metadata": {},
   "outputs": [],
   "source": [
    "# Check if the observations are normally distributed for a parametric test"
   ]
  },
  {
   "cell_type": "code",
   "execution_count": 16,
   "id": "de2f86c1",
   "metadata": {},
   "outputs": [
    {
     "data": {
      "image/png": "[encoded data removed]",
      "text/plain": [
       "<Figure size 640x480 with 1 Axes>"
      ]
     },
     "metadata": {},
     "output_type": "display_data"
    }
   ],
   "source": [
    "sns.histplot(data=women_wc_recent, x='goals_scored')\n",
    "plt.show()"
   ]
  },
  {
   "cell_type": "code",
   "execution_count": 17,
   "id": "0f5ef2fe",
   "metadata": {},
   "outputs": [
    {
     "data": {
      "image/png": "[encoded data removed]",
      "text/plain": [
       "<Figure size 640x480 with 1 Axes>"
      ]
     },
     "metadata": {},
     "output_type": "display_data"
    }
   ],
   "source": [
    "sns.histplot(data=men_wc_recent, x='goals_scored')\n",
    "plt.show()"
   ]
  },
  {
   "cell_type": "code",
   "execution_count": 18,
   "id": "5b25a421",
   "metadata": {},
   "outputs": [],
   "source": [
    "# As the samples are not normally distributed, run a non-parametric test"
   ]
  },
  {
   "cell_type": "code",
   "execution_count": 19,
   "id": "cc891571",
   "metadata": {},
   "outputs": [],
   "source": [
    "# Merge both datasets and prepare consolidated dataset to run a Wilcoxon-Mann-Whitney test\n",
    "women_men = pd.concat([women_wc_recent, men_wc_recent], axis=0, ignore_index=True)\n",
    "women_men_subset = women_men[['goals_scored', 'gender']]\n",
    "women_men_subset_wide = women_men_subset.pivot(columns='gender', values='goals_scored')"
   ]
  },
  {
   "cell_type": "code",
   "execution_count": 20,
   "id": "4af5a3e1",
   "metadata": {},
   "outputs": [],
   "source": [
    "# Run Wilcoxon-Mann-Whitney test\n",
    "results_pg = pingouin.mwu(x=women_men_subset_wide['women'], y=women_men_subset_wide['men'], alternative='greater')"
   ]
  },
  {
   "cell_type": "code",
   "execution_count": 29,
   "id": "1ebdc6c2",
   "metadata": {},
   "outputs": [
    {
     "name": "stdout",
     "output_type": "stream",
     "text": [
      "p-value (0.01) is lower than the significance threshold (0.1)\n",
      "Reject the null hypothesis\n"
     ]
    }
   ],
   "source": [
    "# Calculate p-value and determine hypothesis test result based on a pre-determined significance threshold\n",
    "significance_threshold = 0.1\n",
    "p_val = results_pg[\"p-val\"].values[0]\n",
    "\n",
    "if p_val <= significance_threshold:\n",
    "    print(f'p-value ({round(p_val, 2)}) is lower than the significance threshold ({significance_threshold})')\n",
    "    print('Reject the null hypothesis')\n",
    "else:\n",
    "    print(f'p-value ({round(p_val, 2)}) is higher than the significance threshold ({significance_threshold})')\n",
    "    print('Fail to reject the null hypothesis')"
   ]
  }
 ],
 "metadata": {
  "kernelspec": {
   "display_name": "Python 3 (ipykernel)",
   "language": "python",
   "name": "python3"
  },
  "language_info": {
   "codemirror_mode": {
    "name": "ipython",
    "version": 3
   },
   "file_extension": ".py",
   "mimetype": "text/x-python",
   "name": "python",
   "nbconvert_exporter": "python",
   "pygments_lexer": "ipython3",
   "version": "3.9.13"
  }
 },
 "nbformat": 4,
 "nbformat_minor": 5
}
